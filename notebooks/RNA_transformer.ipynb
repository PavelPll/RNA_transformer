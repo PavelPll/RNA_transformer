{
 "cells": [
  {
   "cell_type": "code",
   "execution_count": 1,
   "metadata": {},
   "outputs": [],
   "source": [
    "import torch\n",
    "import pandas as pd\n",
    "from torch import nn\n",
    "from torch.utils.data import DataLoader, Dataset\n",
    "from sklearn.model_selection import train_test_split\n",
    "import numpy as np\n",
    "import random\n",
    "from tqdm import tqdm\n",
    "import sys\n",
    "import os\n",
    "\n",
    "sys.path.append(os.path.abspath('../'))"
   ]
  },
  {
   "cell_type": "code",
   "execution_count": 2,
   "metadata": {},
   "outputs": [
    {
     "name": "stdout",
     "output_type": "stream",
     "text": [
      "cuda\n"
     ]
    }
   ],
   "source": [
    "from models.RNA_transformer.model import build_transformer\n",
    "from models.RNA_transformer.config import get_config, get_weights_file_path, latest_weights_file_path\n",
    "from models.RNA_transformer.vocabulary import Vocabulary\n",
    "\n",
    "config = get_config()\n",
    "\n",
    "d_model = EMBED_DIM = config[\"d_model\"]\n",
    "VOCAB_SRC_LENGTH = config[\"vocab_src_length\"]\n",
    "VOCAB_TGT_LENGTH = config[\"vocab_tgt_length\"]\n",
    "SRC_SEQ_LEN = TGT_SEQ_LEN = config[\"seq_len\"]\n",
    "CUSTOM_EMB_PERCENTAGE = config[\"custom_emb_percentage\"]\n",
    "device = \"cuda\" if torch.cuda.is_available() else \"cpu\"\n",
    "print(device)\n",
    "\n",
    "RANDOM_SEED = 42\n",
    "random.seed(RANDOM_SEED)\n",
    "np.random.seed(RANDOM_SEED)\n",
    "torch.manual_seed(RANDOM_SEED)\n",
    "torch.cuda.manual_seed(RANDOM_SEED)\n",
    "torch.cuda.manual_seed_all(RANDOM_SEED)\n",
    "torch.backends.cudnn.deterministic = True\n",
    "# torch.backends.cudnn.benchmark = False\n",
    "\n",
    "vocab = Vocabulary()\n",
    "tokenizer_src = vocab.get_tokenizer_src()\n",
    "tokenizer_tgt = tokenizer_src\n",
    "tokenizer_tgt_inv = vocab.get_inverted_tokenizer_tgt()"
   ]
  },
  {
   "cell_type": "code",
   "execution_count": 3,
   "metadata": {},
   "outputs": [
    {
     "name": "stdout",
     "output_type": "stream",
     "text": [
      "Max length of source sentence: 204\n",
      "Max length of target sentence: 204\n",
      "Nlines (N rna molecules) in train dataset 62983\n",
      "Average rna len in raw dataset 319.7815807903952\n",
      "Average rna len for train 86.50246892018481\n"
     ]
    }
   ],
   "source": [
    "from models.RNA_transformer.dataset import BilingualDataset\n",
    "\n",
    "# Read data (RNA sequences extracted from RNAcentral database)\n",
    "# see ./scripts/rna_data_extract.py for extraction details\n",
    "\n",
    "# path_data = \"../data/raw/data_rna_central/rna_sequences_8952.csv\"\n",
    "# path_data = \"../data/raw/data_rna_central/rna_sequences_100_7939.csv\"\n",
    "# 100 000 RNA sequences, add general_rnafm_2000_4000.csv otherwise\n",
    "path_data = \"../data/raw/data_rna_central/general_dataframes/general_rnafm_0_2000.csv\"\n",
    "\n",
    "def get_ds(path_data, batch_size=config[\"batch_size\"], \n",
    "           RNA_seq_len_max=config[\"RNA_seq_len_max\"],\n",
    "            tokenizer_src=tokenizer_src,\n",
    "            tokenizer_tgt=tokenizer_tgt  ):\n",
    "    # Read dataframe\n",
    "    # ds_raw = pd.read_csv(path_data)[:1000]\n",
    "    ds_raw = pd.read_pickle(path_data)\n",
    "    ds_raw_filtered = ds_raw [ds_raw['sequence'].apply(len) < RNA_seq_len_max].reset_index(drop=True) # [:70000]\n",
    "    train_ds_raw, val_ds_raw = train_test_split(ds_raw_filtered, test_size=0.1, random_state=RANDOM_SEED)\n",
    "    train_ds_raw, val_ds_raw = train_ds_raw.reset_index(drop=True), val_ds_raw.reset_index(drop=True)\n",
    "\n",
    "    train_ds = BilingualDataset(train_ds_raw, seq_len=SRC_SEQ_LEN,\n",
    "                                tokenizer_src=tokenizer_src, \n",
    "                                tokenizer_tgt=tokenizer_tgt,\n",
    "                                apply_masking=config[\"apply_masking\"])\n",
    "    val_ds = BilingualDataset(val_ds_raw, seq_len=SRC_SEQ_LEN,\n",
    "                              tokenizer_src=tokenizer_src, \n",
    "                              tokenizer_tgt=tokenizer_tgt,\n",
    "                              apply_masking=config[\"apply_masking\"])\n",
    "    \n",
    "    max_len_src = ds_raw_filtered['sequence'].apply(len).max() #len(ds_raw_filtered)\n",
    "    max_len_tgt = max_len_src #max(max_len_tgt, len(tgt_ids))\n",
    "    print(f'Max length of source sentence: {max_len_src}')\n",
    "    print(f'Max length of target sentence: {max_len_tgt}')\n",
    "    print(\"Nlines (N rna molecules) in train dataset\", len(train_ds_raw))\n",
    "    print(\"Average rna len in raw dataset\", ds_raw['sequence'].apply(len).mean())\n",
    "    print(\"Average rna len for train\", train_ds_raw['sequence'].apply(len).mean())\n",
    "\n",
    "    train_dataloader = DataLoader(train_ds, batch_size=batch_size, shuffle=True)\n",
    "    val_dataloader = DataLoader(val_ds, batch_size=1, shuffle=True)\n",
    "\n",
    "    vocab = Vocabulary()\n",
    "    tokenizer_src = vocab.get_tokenizer_src()\n",
    "    tokenizer_tgt = tokenizer_src\n",
    "\n",
    "    return train_dataloader, val_dataloader, tokenizer_src, tokenizer_tgt\n",
    "\n",
    "\n",
    "\n",
    "train_dataloader, val_dataloader, tokenizer_src, tokenizer_tgt  = get_ds(path_data)\n"
   ]
  },
  {
   "cell_type": "code",
   "execution_count": 4,
   "metadata": {},
   "outputs": [],
   "source": [
    "################## TRAIN #################"
   ]
  },
  {
   "cell_type": "code",
   "execution_count": 5,
   "metadata": {},
   "outputs": [
    {
     "name": "stdout",
     "output_type": "stream",
     "text": [
      "Using device: cuda\n",
      "Device name: NVIDIA GeForce RTX 4060 Laptop GPU\n",
      "Device memory: 7.99560546875 GB\n"
     ]
    }
   ],
   "source": [
    "# Define the device\n",
    "device = \"cuda\" if torch.cuda.is_available() else \"mps\" if torch.has_mps or torch.backends.mps.is_available() else \"cpu\"\n",
    "print(\"Using device:\", device)\n",
    "if (device == 'cuda'):\n",
    "    print(f\"Device name: {torch.cuda.get_device_name(device.index)}\")\n",
    "    print(f\"Device memory: {torch.cuda.get_device_properties(device.index).total_memory / 1024 ** 3} GB\")\n",
    "elif (device == 'mps'):\n",
    "    print(f\"Device name: <mps>\")\n",
    "else:\n",
    "    print(\"NOTE: If you have a GPU, consider using it for training.\")\n",
    "    print(\"      On a Windows machine with NVidia GPU, check this video: https://www.youtube.com/watch?v=GMSjDTU8Zlc\")\n",
    "    print(\"      On a Mac machine, run: pip3 install --pre torch torchvision torchaudio torchtext --index-url https://download.pytorch.org/whl/nightly/cpu\")\n",
    "device = torch.device(device)"
   ]
  },
  {
   "cell_type": "code",
   "execution_count": 6,
   "metadata": {},
   "outputs": [],
   "source": [
    "# Create output folder\n",
    "from pathlib import Path\n",
    "\n",
    "# Make sure the weights folder exists\n",
    "Path(f\"{config['datasource']}//{config['model_folder']}\").mkdir(parents=True, exist_ok=True)\n",
    "# Make sure the inference folder exists\n",
    "Path(f\"{config['datasource']}//{config['inference_folder']}\").mkdir(parents=True, exist_ok=True)\n"
   ]
  },
  {
   "cell_type": "code",
   "execution_count": 7,
   "metadata": {},
   "outputs": [
    {
     "name": "stdout",
     "output_type": "stream",
     "text": [
      "Max length of source sentence: 204\n",
      "Max length of target sentence: 204\n",
      "Nlines (N rna molecules) in train dataset 62983\n",
      "Average rna len in raw dataset 319.7815807903952\n",
      "Average rna len for train 86.50246892018481\n",
      "--> trainable_classification_weight set to const value of 0.5!\n"
     ]
    }
   ],
   "source": [
    "# Define model, optimizer, loss\n",
    "\n",
    "#import torchmetrics\n",
    "from torch.utils.tensorboard import SummaryWriter\n",
    "\n",
    "train_dataloader, val_dataloader, tokenizer_src, tokenizer_tgt = get_ds(path_data)\n",
    "model = build_transformer(src_vocab_size=VOCAB_SRC_LENGTH, tgt_vocab_size=VOCAB_TGT_LENGTH, src_seq_len=SRC_SEQ_LEN, \n",
    "                          tgt_seq_len=TGT_SEQ_LEN, d_model=d_model, \n",
    "                          custom_emb_percentage=CUSTOM_EMB_PERCENTAGE).to(device)\n",
    "# Tensorboard\n",
    "writer = SummaryWriter(config['experiment_name']) # ('runs/simple_test')\n",
    "# tensorboard --logdir=runs --port=6006\n",
    "\n",
    "autoencoder_cond = config[\"autoencoder_vanilla\"] or config[\"autoencoder_bert\"]\n",
    "if config[\"trainable_classification_weight\"] and autoencoder_cond:\n",
    "\n",
    "    #alpha = nn.Parameter(torch.tensor(5.0))  # Weight for loss_1\n",
    "    alpha = torch.tensor(5.0, requires_grad=True)  # Initial coefficient, Weight for loss_1\n",
    "    optimizer = torch.optim.Adam(\n",
    "        list(model.parameters()) + [alpha],  # Include alpha as parameter to be optimized\n",
    "        lr=config['lr'],\n",
    "        eps=1e-9\n",
    "    )\n",
    "else:\n",
    "    optimizer = torch.optim.Adam(model.parameters(), lr=config['lr'], eps=1e-9)\n",
    "    alpha = torch.tensor(5.0, requires_grad=False) #5\n",
    "    print(\"--> trainable_classification_weight set to const value of 0.5!\")\n",
    "\n",
    "# loss_fn = nn.CrossEntropyLoss(ignore_index=tokenizer_src.token_to_id('[PAD]'), label_smoothing=0.1).to(device)\n",
    "loss_fn_vanilla = nn.CrossEntropyLoss(ignore_index=3, label_smoothing=0.1).to(device)\n",
    "loss_fn_bert = nn.CrossEntropyLoss(label_smoothing=0.1).to(device)\n",
    "loss_cl = nn.CrossEntropyLoss(label_smoothing=0.1).to(device) "
   ]
  },
  {
   "cell_type": "code",
   "execution_count": 8,
   "metadata": {},
   "outputs": [
    {
     "name": "stderr",
     "output_type": "stream",
     "text": [
      "Processing Epoch 00: 100%|██████████| 985/985 [05:50<00:00,  2.81it/s, loss=1.449]\n",
      "c:\\Users\\User\\miniconda3\\envs\\rna\\lib\\site-packages\\torchmetrics\\utilities\\prints.py:62: FutureWarning: Importing `CharErrorRate` from `torchmetrics` was deprecated and will be removed in 2.0. Import `CharErrorRate` from `torchmetrics.text` instead.\n",
      "  _future_warning(\n"
     ]
    },
    {
     "name": "stdout",
     "output_type": "stream",
     "text": [
      "Character error rate (CER) for 3 sequences: 0.05371900647878647\n"
     ]
    },
    {
     "name": "stderr",
     "output_type": "stream",
     "text": [
      "Processing Epoch 01: 100%|██████████| 985/985 [05:54<00:00,  2.77it/s, loss=0.978]\n",
      "c:\\Users\\User\\miniconda3\\envs\\rna\\lib\\site-packages\\torchmetrics\\utilities\\prints.py:62: FutureWarning: Importing `CharErrorRate` from `torchmetrics` was deprecated and will be removed in 2.0. Import `CharErrorRate` from `torchmetrics.text` instead.\n",
      "  _future_warning(\n"
     ]
    },
    {
     "name": "stdout",
     "output_type": "stream",
     "text": [
      "Character error rate (CER) for 3 sequences: 0.07865168899297714\n"
     ]
    },
    {
     "name": "stderr",
     "output_type": "stream",
     "text": [
      "Processing Epoch 02: 100%|██████████| 985/985 [06:13<00:00,  2.63it/s, loss=0.942]\n"
     ]
    },
    {
     "name": "stdout",
     "output_type": "stream",
     "text": [
      "Character error rate (CER) for 3 sequences: 0.04089219495654106\n"
     ]
    },
    {
     "name": "stderr",
     "output_type": "stream",
     "text": [
      "c:\\Users\\User\\miniconda3\\envs\\rna\\lib\\site-packages\\torchmetrics\\utilities\\prints.py:62: FutureWarning: Importing `CharErrorRate` from `torchmetrics` was deprecated and will be removed in 2.0. Import `CharErrorRate` from `torchmetrics.text` instead.\n",
      "  _future_warning(\n"
     ]
    }
   ],
   "source": [
    "# Run model training\n",
    "# Parameters are in config file: models/config.py\n",
    "\n",
    "from models.RNA_transformer.validation import run_validation\n",
    "\n",
    "initial_epoch = 0\n",
    "global_step = 0\n",
    "\n",
    "for epoch in range(initial_epoch, config['num_epochs']):\n",
    "    torch.cuda.empty_cache()\n",
    "    model.train()\n",
    "    loss_epoch = torch.Tensor([0])\n",
    "    batch_iterator = tqdm(train_dataloader, desc=f\"Processing Epoch {epoch:02d}\")\n",
    "    #loss = torch.Tensor([0], require).to(device)\n",
    "\n",
    "    for batch in batch_iterator:\n",
    "\n",
    "        encoder_input = batch['encoder_input'].to(device) # (b, seq_len)\n",
    "        encoder_mask = batch['encoder_mask'].to(device) # (B, 1, 1, seq_len)\n",
    "        decoder_input = batch['decoder_input'].to(device) # (B, seq_len)\n",
    "        decoder_mask = batch['decoder_mask'].to(device) # (B, 1, seq_len, seq_len)\n",
    "\n",
    "        # Run the tensors through the encoder, decoder and the projection layer\n",
    "        encoder_output = model.encode(encoder_input, encoder_mask) # (B, seq_len, d_model)\n",
    "        decoder_output = model.decode(encoder_output, encoder_mask, decoder_input, decoder_mask) # (B, seq_len, d_model)\n",
    "        proj_output = model.project(decoder_output) # (B, seq_len, vocab_size)\n",
    "        proj_output_bert = model.project_bert(encoder_output) # (B, seq_len, vocab_size)\n",
    "\n",
    "        # VANILLA autoencoder\n",
    "        # Compute reconstruction loss using a simple cross entropy\n",
    "        label = batch['label'].to(device) # (B, seq_len)\n",
    "        loss_vanilla = loss_fn_vanilla(proj_output.view(-1, VOCAB_SRC_LENGTH), label.view(-1))\n",
    "\n",
    "        # BERT autoencoder\n",
    "        # Compute reconstruction loss using a simple cross entropy\n",
    "        label_bert = batch['label_bert'].to(device) # (B, seq_len)\n",
    "        #print(label_bert)\n",
    "        loss_bert = loss_fn_bert(proj_output_bert.view(-1, VOCAB_SRC_LENGTH), \n",
    "                            label_bert.view(-1))\n",
    "\n",
    "        # CLASSIFICATION\n",
    "        # Extract a latent vector (e.g., from the last token or mean pooling)\n",
    "        cls_token_rep = encoder_output[:, 0, :] # the first token or [:, -1, :]\n",
    "        proj_output_cl = model.project_cl(cls_token_rep) # logits \n",
    "        cl = batch['class'].to(device) # (B, seq_len)\n",
    "        loss_classification = loss_cl(proj_output_cl, cl)\n",
    "\n",
    "        # Calculate composite loss\n",
    "        # The weight 0.5=alpha/10 (const or trainable) \n",
    "        # -- is related to classification loss\n",
    "        loss = loss_vanilla * int(config[\"autoencoder_vanilla\"]) + \\\n",
    "            loss_bert * int(config[\"autoencoder_bert\"]) + \\\n",
    "                loss_classification * int(config[\"classification\"]) * alpha/10\n",
    "            \n",
    "        if loss == torch.Tensor([0]).to(device):\n",
    "            print(\"define loss in config in a proper way!\")\n",
    "            raise SystemExit\n",
    "        \n",
    "        # Calculate loss for whole epoch\n",
    "        loss_epoch = loss_epoch + loss.item()\n",
    "\n",
    "        # Print some info during training\n",
    "        if not config[\"trainable_classification_weight\"]:\n",
    "            batch_iterator.set_postfix({\"loss\": f\"{loss.item():6.3f}\" })\n",
    "        else:\n",
    "            batch_iterator.set_postfix({\"loss\": f\"{loss.item():6.3f}\",\n",
    "                                        \"alpha\": f\"{alpha.item():6.3f}\"})\n",
    "\n",
    "\n",
    "\n",
    "        # Add to tesorboard to see it later    \n",
    "        writer.add_scalar('train loss', loss.item()/config[\"batch_size\"], global_step)\n",
    "        #writer.add_scalar('alpha', alpha.item(), global_step)\n",
    "        writer.flush()\n",
    "\n",
    "        # Backpropagate the loss\n",
    "        loss.backward()\n",
    "\n",
    "        # Update the weights\n",
    "        optimizer.step()\n",
    "        optimizer.zero_grad(set_to_none=True)\n",
    "\n",
    "        # Clip the alpha/10 coefficient to ensure it's between 0 and 1\n",
    "        if config[\"trainable_classification_weight\"]:\n",
    "            with torch.no_grad():\n",
    "                alpha.data = torch.clamp(alpha.data, 1.0, 9.0)  # Ensuring the value is between 0 and 1\n",
    "\n",
    "        global_step += 1\n",
    "\n",
    "    Nlines = len(batch_iterator) * config[\"batch_size\"]\n",
    "    writer.add_scalar('train loss epoch', loss_epoch.item()/Nlines, epoch)\n",
    "    if config[\"autoencoder_vanilla\"]:\n",
    "        writer.add_scalar('loss_vanilla', loss_vanilla.item(), epoch)\n",
    "    # writer.add_scalar('alpha', alpha.item()/10.0, epoch)\n",
    "    writer.flush()\n",
    "\n",
    "    # Run validation at the end of every epoch\n",
    "    # for num_examples=3 sequences\n",
    "    run_validation(model, val_dataloader, tokenizer_src, tokenizer_tgt, config['seq_len'], device, lambda msg: batch_iterator.write(msg), \n",
    "                   epoch, writer, num_examples=3)\n",
    "\n",
    "\n",
    "    # Save the model at the end of every epoch\n",
    "    model_filename = get_weights_file_path(config, f\"{epoch:02d}\")\n",
    "    torch.save({\n",
    "        'epoch': epoch,\n",
    "        'model_state_dict': model.state_dict(), # weights of the model\n",
    "        'optimizer_state_dict': optimizer.state_dict(), # where to move\n",
    "        'global_step': global_step\n",
    "    }, model_filename)\n",
    "\n",
    "writer.close()"
   ]
  },
  {
   "cell_type": "code",
   "execution_count": 9,
   "metadata": {},
   "outputs": [],
   "source": [
    "############ end training ############"
   ]
  },
  {
   "cell_type": "code",
   "execution_count": 10,
   "metadata": {},
   "outputs": [],
   "source": [
    "# Read the current model\n",
    "\n",
    "model_filename = \"../data/processed/RNA_transformer/weights/tmodel_02.pt\"\n",
    "state = torch.load(model_filename)\n",
    "model.load_state_dict(state['model_state_dict'])\n",
    "initial_epoch = state['epoch'] + 1\n",
    "optimizer.load_state_dict(state['optimizer_state_dict'])\n",
    "global_step = state['global_step']"
   ]
  },
  {
   "cell_type": "code",
   "execution_count": 11,
   "metadata": {},
   "outputs": [
    {
     "name": "stdout",
     "output_type": "stream",
     "text": [
      "Each dataframe contains 5 lines\n"
     ]
    }
   ],
   "source": [
    "# Compare the current model with rnafm using dataframes\n",
    "# num_examples is max number of RNA sequences to keep from validation dataset\n",
    "\n",
    "from models.RNA_transformer.comparison import comparison\n",
    "\n",
    "# where to save dataframes\n",
    "path_file = f\"{config['datasource']}//{config['inference_folder']}\"\n",
    "\n",
    "df_my, df_rnafm = comparison(model, val_dataloader, device, \n",
    "                             num_examples=5, path_file=path_file)"
   ]
  },
  {
   "cell_type": "code",
   "execution_count": 13,
   "metadata": {},
   "outputs": [],
   "source": [
    "# Run validation outside training loop, if needed\n",
    "# num_examples is max number of RNA sequences to keep from validation dataset\n",
    "# see stdout and tensorboard\n",
    "\n",
    "from models.RNA_transformer.validation import run_validation\n",
    "\n",
    "epoch=11\n",
    "run_validation(model, val_dataloader, tokenizer_src, tokenizer_tgt, config['seq_len'], device, lambda msg: batch_iterator.write(msg), \n",
    "               epoch, writer=0, verbose=True, num_examples=50)\n",
    "#writer.close()"
   ]
  }
 ],
 "metadata": {
  "kernelspec": {
   "display_name": "rna",
   "language": "python",
   "name": "python3"
  },
  "language_info": {
   "codemirror_mode": {
    "name": "ipython",
    "version": 3
   },
   "file_extension": ".py",
   "mimetype": "text/x-python",
   "name": "python",
   "nbconvert_exporter": "python",
   "pygments_lexer": "ipython3",
   "version": "3.10.16"
  }
 },
 "nbformat": 4,
 "nbformat_minor": 2
}
